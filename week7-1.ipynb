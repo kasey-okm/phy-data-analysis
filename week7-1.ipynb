{
 "cells": [
  {
   "cell_type": "markdown",
   "id": "fd048d22",
   "metadata": {},
   "source": [
    "# Import Required Libraries\n",
    "\n",
    "In this section, we import all the necessary libraries for data analysis and visualization, including pandas, matplotlib, seaborn, and kagglehub for dataset download."
   ]
  },
  {
   "cell_type": "code",
   "execution_count": null,
   "id": "898ca347",
   "metadata": {},
   "outputs": [],
   "source": [
    "# Import Required Libraries\n",
    "import pandas as pd\n",
    "import matplotlib.pyplot as plt\n",
    "import seaborn as sns\n",
    "import kagglehub\n",
    "\n",
    "# Set plot style for better aesthetics\n",
    "sns.set(style=\"whitegrid\")"
   ]
  },
  {
   "cell_type": "markdown",
   "id": "398160f9",
   "metadata": {},
   "source": [
    "# Download and Load the Dataset\n",
    "\n",
    "We use kagglehub to download the Diabetes Health Indicators dataset. The dataset is loaded into a pandas DataFrame, with error handling to manage file-not-found or read errors."
   ]
  },
  {
   "cell_type": "code",
   "execution_count": null,
   "id": "6b560bfa",
   "metadata": {},
   "outputs": [],
   "source": [
    "# Download and Load the Dataset\n",
    "try:\n",
    "    # Download the dataset using kagglehub\n",
    "    path = kagglehub.dataset_download(\"alexteboul/diabetes-health-indicators-dataset\")\n",
    "    print(\"Path to dataset files:\", path)\n",
    "    \n",
    "    # Load the CSV file into a pandas DataFrame\n",
    "    df = pd.read_csv(f\"{path}/diabetes_health_indicators.csv\")\n",
    "    print(\"Dataset loaded successfully.\")\n",
    "except FileNotFoundError:\n",
    "    print(\"Error: The dataset file was not found.\")\n",
    "except pd.errors.ParserError:\n",
    "    print(\"Error: Could not parse the CSV file.\")\n",
    "except Exception as e:\n",
    "    print(f\"An unexpected error occurred: {e}\")"
   ]
  },
  {
   "cell_type": "markdown",
   "id": "8556861a",
   "metadata": {},
   "source": [
    "# Explore the Dataset\n",
    "\n",
    "Let's display the first few rows of the dataset, check the data types of each column, and inspect for missing values."
   ]
  },
  {
   "cell_type": "code",
   "execution_count": null,
   "id": "1de82121",
   "metadata": {},
   "outputs": [],
   "source": [
    "# Display the first five rows\n",
    "df.head()"
   ]
  },
  {
   "cell_type": "code",
   "execution_count": null,
   "id": "f549a0e3",
   "metadata": {},
   "outputs": [],
   "source": [
    "# Check data types of each column\n",
    "df.dtypes"
   ]
  },
  {
   "cell_type": "code",
   "execution_count": null,
   "id": "5904924c",
   "metadata": {},
   "outputs": [],
   "source": [
    "# Inspect for missing values in each column\n",
    "df.isnull().sum()"
   ]
  },
  {
   "cell_type": "markdown",
   "id": "bd2d8274",
   "metadata": {},
   "source": [
    "# Clean the Dataset\n",
    "\n",
    "We handle missing values by either filling them with appropriate values or dropping rows/columns as needed."
   ]
  },
  {
   "cell_type": "code",
   "execution_count": null,
   "id": "6aa3cc75",
   "metadata": {},
   "outputs": [],
   "source": [
    "# Fill missing values with column mean (for numerical columns)\n",
    "df_cleaned = df.copy()\n",
    "for col in df_cleaned.select_dtypes(include='number').columns:\n",
    "    df_cleaned[col].fillna(df_cleaned[col].mean(), inplace=True)\n",
    "\n",
    "# Drop rows with missing values in categorical columns\n",
    "df_cleaned.dropna(inplace=True)\n",
    "\n",
    "# Verify that missing values have been handled\n",
    "df_cleaned.isnull().sum()"
   ]
  },
  {
   "cell_type": "markdown",
   "id": "a49b906c",
   "metadata": {},
   "source": [
    "# Basic Data Analysis\n",
    "\n",
    "We compute basic statistics such as mean, median, and standard deviation for the numerical columns using the .describe() method."
   ]
  },
  {
   "cell_type": "code",
   "execution_count": null,
   "id": "e0ee0a57",
   "metadata": {},
   "outputs": [],
   "source": [
    "# Basic statistics for numerical columns\n",
    "df_cleaned.describe()"
   ]
  },
  {
   "cell_type": "markdown",
   "id": "8abf5970",
   "metadata": {},
   "source": [
    "# Group and Aggregate Data\n",
    "\n",
    "Let's group the data by the 'Diabetes_binary' column (indicating diabetes status) and compute the mean of selected numerical columns for each group."
   ]
  },
  {
   "cell_type": "code",
   "execution_count": null,
   "id": "0b9ab6e8",
   "metadata": {},
   "outputs": [],
   "source": [
    "# Group by diabetes status and compute mean of numerical columns\n",
    "grouped_means = df_cleaned.groupby('Diabetes_binary').mean(numeric_only=True)\n",
    "grouped_means"
   ]
  },
  {
   "cell_type": "markdown",
   "id": "03e25f38",
   "metadata": {},
   "source": [
    "# Visualize Trends with Line Chart\n",
    "\n",
    "We create a line chart to show trends over age categories for BMI. The plot is customized with titles and axis labels."
   ]
  },
  {
   "cell_type": "code",
   "execution_count": null,
   "id": "b6e8e539",
   "metadata": {},
   "outputs": [],
   "source": [
    "# Line chart: BMI trend across age categories\n",
    "plt.figure(figsize=(10,6))\n",
    "age_bmi = df_cleaned.groupby('Age').BMI.mean()\n",
    "plt.plot(age_bmi.index, age_bmi.values, marker='o')\n",
    "plt.title('Average BMI Across Age Categories')\n",
    "plt.xlabel('Age Category')\n",
    "plt.ylabel('Average BMI')\n",
    "plt.grid(True)\n",
    "plt.show()"
   ]
  },
  {
   "cell_type": "markdown",
   "id": "2113809d",
   "metadata": {},
   "source": [
    "# Compare Categories with Bar Chart\n",
    "\n",
    "We create a bar chart to compare the average BMI for individuals with and without diabetes."
   ]
  },
  {
   "cell_type": "code",
   "execution_count": null,
   "id": "a70ce3ec",
   "metadata": {},
   "outputs": [],
   "source": [
    "# Bar chart: Average BMI by diabetes status\n",
    "plt.figure(figsize=(8,5))\n",
    "sns.barplot(x=grouped_means.index, y=grouped_means['BMI'])\n",
    "plt.title('Average BMI by Diabetes Status')\n",
    "plt.xlabel('Diabetes Status (0 = No, 1 = Yes)')\n",
    "plt.ylabel('Average BMI')\n",
    "plt.show()"
   ]
  },
  {
   "cell_type": "markdown",
   "id": "9ac8b34d",
   "metadata": {},
   "source": [
    "# Visualize Distribution with Histogram\n",
    "\n",
    "We plot a histogram of the BMI column to understand its distribution in the dataset."
   ]
  },
  {
   "cell_type": "code",
   "execution_count": null,
   "id": "2c1bf93d",
   "metadata": {},
   "outputs": [],
   "source": [
    "# Histogram of BMI\n",
    "plt.figure(figsize=(8,5))\n",
    "sns.histplot(df_cleaned['BMI'], bins=30, kde=True)\n",
    "plt.title('Distribution of BMI')\n",
    "plt.xlabel('BMI')\n",
    "plt.ylabel('Frequency')\n",
    "plt.show()"
   ]
  },
  {
   "cell_type": "markdown",
   "id": "2d5256fe",
   "metadata": {},
   "source": [
    "# Explore Relationships with Scatter Plot\n",
    "\n",
    "We create a scatter plot to visualize the relationship between BMI and Physical Health."
   ]
  },
  {
   "cell_type": "code",
   "execution_count": null,
   "id": "fcaf5518",
   "metadata": {},
   "outputs": [],
   "source": [
    "# Scatter plot: BMI vs. Physical Health\n",
    "plt.figure(figsize=(8,5))\n",
    "sns.scatterplot(x='BMI', y='PhysicalHealth', hue='Diabetes_binary', data=df_cleaned, alpha=0.6)\n",
    "plt.title('BMI vs. Physical Health')\n",
    "plt.xlabel('BMI')\n",
    "plt.ylabel('Physical Health')\n",
    "plt.legend(title='Diabetes Status')\n",
    "plt.show()"
   ]
  },
  {
   "cell_type": "markdown",
   "id": "4f108143",
   "metadata": {},
   "source": [
    "# Error Handling in Data Loading and Analysis\n",
    "\n",
    "This section demonstrates exception handling for file reading, missing data, and incorrect data types using try-except blocks."
   ]
  },
  {
   "cell_type": "code",
   "execution_count": null,
   "id": "08c497c1",
   "metadata": {},
   "outputs": [],
   "source": [
    "# Example: Error handling during data analysis\n",
    "try:\n",
    "    # Attempt to compute mean of a column that may not exist\n",
    "    mean_value = df_cleaned['NonExistentColumn'].mean()\n",
    "except KeyError:\n",
    "    print(\"Error: The specified column does not exist in the DataFrame.\")\n",
    "except Exception as e:\n",
    "    print(f\"An unexpected error occurred: {e}\")"
   ]
  }
 ],
 "metadata": {
  "language_info": {
   "name": "python"
  }
 },
 "nbformat": 4,
 "nbformat_minor": 5
}
